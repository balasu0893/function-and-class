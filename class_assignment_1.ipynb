{
 "cells": [
  {
   "cell_type": "code",
   "execution_count": 1,
   "metadata": {},
   "outputs": [
    {
     "name": "stdout",
     "output_type": "stream",
     "text": [
      "Subject1= 98\n",
      "Subject2= 87\n",
      "Subject3= 95\n",
      "Subject4= 95\n",
      "Subject5= 93\n",
      "Total : 468.0\n",
      "Percentage : 93.60000000000001\n"
     ]
    }
   ],
   "source": [
    "class FindPercent():\n",
    "    def percentage():\n",
    "        sub1 = float(input(\"Subject1= \"))\n",
    "        sub2 = float(input(\"Subject2= \"))\n",
    "        sub3 = float(input(\"Subject3= \"))\n",
    "        sub4 = float(input(\"Subject4= \"))\n",
    "        sub5 = float(input(\"Subject5= \"))\n",
    "        mark = sub1 + sub2 + sub3 + sub4 + sub5\n",
    "        print(\"Total :\", mark)\n",
    "        per_calc = ((mark / 500) * 100)\n",
    "        print(\"Percentage :\", per_calc)\n",
    "        percent =\"calculate 10th marks percentage\"\n",
    "        return percent\n",
    "    \n",
    "percent_10th=FindPercent.percentage()"
   ]
  },
  {
   "cell_type": "code",
   "execution_count": 2,
   "metadata": {},
   "outputs": [
    {
     "name": "stdout",
     "output_type": "stream",
     "text": [
      "Height:32\n",
      "Breadth:34\n",
      "Aread of Triangle 544.0\n",
      "Height1:2\n",
      "Height2:4\n",
      "Breadth:4\n",
      "Permiter of Triangle 10.0\n"
     ]
    }
   ],
   "source": [
    "class triangle:\n",
    "    def triangle():\n",
    "# calculate Area of Traingle\n",
    "        ht = float(input(\"Height:\"))\n",
    "        bth = float(input(\"Breadth:\"))\n",
    "        Area_Traingle = (ht*bth)/2\n",
    "        print(\"Aread of Triangle\", Area_Traingle)\n",
    "        area=\"triangle\"\n",
    "\n",
    "# calculate Perimeter of Traingle\n",
    "\n",
    "        ht1 = float(input(\"Height1:\"))\n",
    "        ht2 = float(input(\"Height2:\"))\n",
    "        bth2 = float(input(\"Breadth:\"))\n",
    "        perimeter = ht1+ht2+bth2\n",
    "        print(\"Permiter of Triangle\", perimeter)\n",
    "        area=\"triangle\"\n",
    "        return area\n",
    "\n",
    "calc=triangle.triangle()"
   ]
  },
  {
   "cell_type": "code",
   "execution_count": 3,
   "metadata": {},
   "outputs": [
    {
     "name": "stdout",
     "output_type": "stream",
     "text": [
      "Sub-fields in AI are: \n",
      "Machine Leaning\n",
      "Neural Networks\n",
      "Vision\n",
      "Robotics\n",
      "Speech Processing\n",
      "Natural Language Processing\n"
     ]
    }
   ],
   "source": [
    "class SubfieldsInAI():\n",
    "    def Subfields():\n",
    "        list = [\"Machine Leaning\",\"Neural Networks\",\"Vision\",\"Robotics\",\"Speech Processing\",\"Natural Language Processing\"]\n",
    "        print(\"Sub-fields in AI are: \")\n",
    "        for sub_fields in list:\n",
    "            print(sub_fields)\n",
    "\n",
    "\n",
    "SubfieldsInAI.Subfields()"
   ]
  },
  {
   "cell_type": "code",
   "execution_count": 4,
   "metadata": {},
   "outputs": [
    {
     "name": "stdout",
     "output_type": "stream",
     "text": [
      "Enter a number: 52452\n",
      "52452 is Even number\n"
     ]
    }
   ],
   "source": [
    "class OddEven():\n",
    "    def OddEven():\n",
    "        \n",
    "        if(num % 2 == 0):\n",
    "            print(f\"{num} is Even number\")\n",
    "            numb = \"Even number\"\n",
    "        else:\n",
    "            print(f\"{num} is Odd number\")\n",
    "            numb = \"Odd number\"\n",
    "        return numb\n",
    "    \n",
    "num = int(input(\"Enter a number: \"))    \n",
    "number=OddEven.OddEven()"
   ]
  },
  {
   "cell_type": "code",
   "execution_count": 5,
   "metadata": {},
   "outputs": [
    {
     "name": "stdout",
     "output_type": "stream",
     "text": [
      "Your Gender:Male\n",
      "Your Age:20\n",
      "Not ELIGIBLE\n"
     ]
    }
   ],
   "source": [
    "class ElegiblityForMarriage():\n",
    "    def Elegible():\n",
    "        if(gender == \"Male\"):\n",
    "            if(age >= 21):\n",
    "                print(\"ELIGIBLE\")\n",
    "            else:\n",
    "                print(\"Not ELIGIBLE\")\n",
    "        elif(gender == \"Female\"):\n",
    "            if(age >=18):\n",
    "                print(\"Eligible\")\n",
    "            else:\n",
    "                print(\"Not eligible\")\n",
    "                \n",
    "gender = input(\"Your Gender:\")\n",
    "age = int(input(\"Your Age:\"))\n",
    "ElegiblityForMarriage.Elegible()"
   ]
  },
  {
   "cell_type": "code",
   "execution_count": null,
   "metadata": {},
   "outputs": [],
   "source": []
  }
 ],
 "metadata": {
  "kernelspec": {
   "display_name": "Python 3",
   "language": "python",
   "name": "python3"
  },
  "language_info": {
   "codemirror_mode": {
    "name": "ipython",
    "version": 3
   },
   "file_extension": ".py",
   "mimetype": "text/x-python",
   "name": "python",
   "nbconvert_exporter": "python",
   "pygments_lexer": "ipython3",
   "version": "3.7.4"
  }
 },
 "nbformat": 4,
 "nbformat_minor": 2
}
