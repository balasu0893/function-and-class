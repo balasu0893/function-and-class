{
 "cells": [
  {
   "cell_type": "code",
   "execution_count": 11,
   "metadata": {},
   "outputs": [
    {
     "name": "stdout",
     "output_type": "stream",
     "text": [
      "Sub-fields in AI are: \n",
      "Machine Leaning\n",
      "Neural Networks\n",
      "Vision\n",
      "Robotics\n",
      "Speech Processing\n",
      "Natural Language Processing\n"
     ]
    }
   ],
   "source": [
    "\n",
    "def Subfields():\n",
    "    list = [\"Machine Leaning\",\"Neural Networks\",\"Vision\",\"Robotics\",\"Speech Processing\",\"Natural Language Processing\"]\n",
    "    print(\"Sub-fields in AI are: \")\n",
    "    for sub_fields in list:\n",
    "        print(sub_fields)\n",
    "\n",
    "Subfields()"
   ]
  },
  {
   "cell_type": "code",
   "execution_count": 15,
   "metadata": {},
   "outputs": [
    {
     "name": "stdout",
     "output_type": "stream",
     "text": [
      "Enter a number: 4\n",
      "4 is Even number\n"
     ]
    }
   ],
   "source": [
    "def OddEven():\n",
    "    num = int(input(\"Enter a number: \"))\n",
    "    if(num % 2 == 0):\n",
    "        print(f\"{num} is Even number\")\n",
    "    else:\n",
    "        print(f\"{num} is Odd number\")\n",
    "OddEven()"
   ]
  },
  {
   "cell_type": "code",
   "execution_count": 21,
   "metadata": {},
   "outputs": [
    {
     "name": "stdout",
     "output_type": "stream",
     "text": [
      "Your Gender:Male\n",
      "Your Age:18\n",
      "NOT ELIGIBLE\n"
     ]
    }
   ],
   "source": [
    "def Elegible():\n",
    "    gender = input(\"Your Gender:\")\n",
    "    age = int(input(\"Your Age:\"))\n",
    "    if(age <= 18):\n",
    "        print(\"NOT ELIGIBLE\")\n",
    "    else:\n",
    "        print(\"ELIGIBLE\")\n",
    "Elegible()"
   ]
  },
  {
   "cell_type": "code",
   "execution_count": 25,
   "metadata": {},
   "outputs": [
    {
     "name": "stdout",
     "output_type": "stream",
     "text": [
      "Subject1= 23\n",
      "Subject2= 45\n",
      "Subject3= 34\n",
      "Subject4= 23\n",
      "Subject5= 23\n",
      "Total : 148.0\n",
      "Percentage : 29.599999999999998\n"
     ]
    }
   ],
   "source": [
    "def percentage():\n",
    "    sub1 = float(input(\"Subject1= \"))\n",
    "    sub2 = float(input(\"Subject2= \"))\n",
    "    sub3 = float(input(\"Subject3= \"))\n",
    "    sub4 = float(input(\"Subject4= \"))\n",
    "    sub5 = float(input(\"Subject5= \"))\n",
    "    sum = sub1 + sub2 + sub3 + sub4 + sub5\n",
    "    print(\"Total :\", sum)\n",
    "    per_calc = ((sum / 500) * 100)\n",
    "    print(\"Percentage :\", per_calc)\n",
    "    \n",
    "percentage()"
   ]
  },
  {
   "cell_type": "code",
   "execution_count": 28,
   "metadata": {},
   "outputs": [
    {
     "name": "stdout",
     "output_type": "stream",
     "text": [
      "Height:3\n",
      "Breadth:4\n",
      "Aread of Triangle 6.0\n",
      "Height1:3\n",
      "Height2:4\n",
      "Breadth:45\n",
      "Permiter of Triangle 52.0\n"
     ]
    }
   ],
   "source": [
    "def triangle():\n",
    "# calculate Area of Traingle\n",
    "    ht = float(input(\"Height:\"))\n",
    "    bth = float(input(\"Breadth:\"))\n",
    "    Area_Traingle = (ht*bth)/2\n",
    "    print(\"Aread of Triangle\", Area_Traingle)\n",
    "\n",
    "# calculate Perimeter of Traingle\n",
    "\n",
    "    ht1 = float(input(\"Height1:\"))\n",
    "    ht2 = float(input(\"Height2:\"))\n",
    "    bth2 = float(input(\"Breadth:\"))\n",
    "    perimeter = ht1+ht2+bth2\n",
    "    print(\"Permiter of Triangle\", perimeter)\n",
    "\n",
    "triangle()\n",
    "\n"
   ]
  },
  {
   "cell_type": "code",
   "execution_count": null,
   "metadata": {},
   "outputs": [],
   "source": []
  }
 ],
 "metadata": {
  "kernelspec": {
   "display_name": "Python 3",
   "language": "python",
   "name": "python3"
  },
  "language_info": {
   "codemirror_mode": {
    "name": "ipython",
    "version": 3
   },
   "file_extension": ".py",
   "mimetype": "text/x-python",
   "name": "python",
   "nbconvert_exporter": "python",
   "pygments_lexer": "ipython3",
   "version": "3.7.4"
  }
 },
 "nbformat": 4,
 "nbformat_minor": 2
}
